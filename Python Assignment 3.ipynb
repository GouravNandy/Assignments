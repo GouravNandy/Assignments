{
 "cells": [
  {
   "cell_type": "markdown",
   "id": "b817974e",
   "metadata": {},
   "source": [
    "__1.1 Write a Python Program to implement your own myreduce() function which works exactly \n",
    "like Python's built-in function reduce()__"
   ]
  },
  {
   "cell_type": "code",
   "execution_count": 2,
   "id": "5fd01a53",
   "metadata": {},
   "outputs": [
    {
     "name": "stdout",
     "output_type": "stream",
     "text": [
      "Output is : 0.0001984126984126984\n"
     ]
    }
   ],
   "source": [
    "def summation(x,y):\n",
    "    return x+y\n",
    "def subtraction(x,y):\n",
    "    return x-y\n",
    "def division(x,y):\n",
    "    return x/y\n",
    "def multiplication(x,y):\n",
    "    return x*y\n",
    "\n",
    "def myreduce(a,b):\n",
    "    c=b[0]\n",
    "    d=b[1]\n",
    "    result = a(c,d)\n",
    "    for i in range(2,len(b)):\n",
    "        c=result\n",
    "        d=b[i]\n",
    "        result=a(c,d)\n",
    "    return result\n",
    "        \n",
    "l = [1,2,3,4,5,6,7]\n",
    "print(\"Output is :\", myreduce(division,l))"
   ]
  },
  {
   "cell_type": "markdown",
   "id": "6f971497",
   "metadata": {},
   "source": [
    "__1.2 Write a Python program to implement your own myfilter() function which works exactly \n",
    "like Python's built-in function filter()__"
   ]
  },
  {
   "cell_type": "code",
   "execution_count": 2,
   "id": "621a82fa",
   "metadata": {},
   "outputs": [
    {
     "name": "stdout",
     "output_type": "stream",
     "text": [
      "Output: [1, 3, 5, 7]\n"
     ]
    }
   ],
   "source": [
    "def checkeven(n):\n",
    "    if n%2==0:\n",
    "        return True\n",
    "def checkodd(n):\n",
    "    if n%2==1:\n",
    "        return True\n",
    "    \n",
    "def myfilter(a,b):\n",
    "    for i in range(len(b)):\n",
    "        c=a(b[i])\n",
    "        if c==True:\n",
    "            yield b[i]\n",
    "        \n",
    "        \n",
    "l = [1,2,3,4,5,6,7]\n",
    "print(\"Output:\",list(myfilter(checkodd,l)))"
   ]
  },
  {
   "cell_type": "markdown",
   "id": "9ee5658c",
   "metadata": {},
   "source": [
    "__2. Implement List comprehensions to produce the following lists.__  \n",
    "\n",
    "__Write List comprehensions to produce the following Lists :__\n",
    " \n",
    "__['x', 'xx', 'xxx', 'xxxx', 'y', 'yy', 'yyy', 'yyyy', 'z', 'zz', 'zzz', 'zzzz']\n",
    "\n",
    "__['x', 'y', 'z', 'xx', 'yy', 'zz', 'xxx', 'yyy', 'zzz', 'xxxx', 'yyyy', 'zzzz']\n",
    "\n",
    "[[2], [3], [4], [3], [4], [5], [4], [5], [6]]\n",
    "\n",
    "[[2, 3, 4, 5], [3, 4, 5, 6],  [4, 5, 6, 7], [5, 6, 7, 8]] \n",
    "\n",
    "\n",
    "[(1, 1), (2, 1), (3, 1), (1, 2), (2, 2), (3, 2), (1, 3), (2, 3), (3, 3)]\n"
   ]
  },
  {
   "cell_type": "code",
   "execution_count": 1,
   "id": "0cb58429",
   "metadata": {},
   "outputs": [
    {
     "name": "stdout",
     "output_type": "stream",
     "text": [
      "['x', 'xx', 'xxx', 'xxxx', 'y', 'yy', 'yyy', 'yyyy', 'z', 'zz', 'zzz', 'zzzz']\n"
     ]
    }
   ],
   "source": [
    "m = [i*j for i in \"xyz\" for j in range(1,5)]\n",
    "print(m)"
   ]
  },
  {
   "cell_type": "code",
   "execution_count": 2,
   "id": "0fef94e7",
   "metadata": {},
   "outputs": [
    {
     "name": "stdout",
     "output_type": "stream",
     "text": [
      "['x', 'y', 'z', 'xx', 'yy', 'zz', 'xxx', 'yyy', 'zzz', 'xxxx', 'yyyy', 'zzzz']\n"
     ]
    }
   ],
   "source": [
    "m = [i*j for j in range(1,5) for i in \"xyz\"]\n",
    "print(m)"
   ]
  },
  {
   "cell_type": "code",
   "execution_count": 3,
   "id": "3a121cf5",
   "metadata": {},
   "outputs": [
    {
     "name": "stdout",
     "output_type": "stream",
     "text": [
      "[[2], [3], [4], [3], [4], [5], [4], [5], [6]]\n"
     ]
    }
   ],
   "source": [
    "m = [[j] for i in range(2,5) for j in range(i,i+3)]\n",
    "print(m)"
   ]
  },
  {
   "cell_type": "code",
   "execution_count": 4,
   "id": "2d72604d",
   "metadata": {},
   "outputs": [
    {
     "name": "stdout",
     "output_type": "stream",
     "text": [
      "[[2, 3, 4, 5], [3, 4, 5, 6], [4, 5, 6, 7], [5, 6, 7, 8]]\n"
     ]
    }
   ],
   "source": [
    "x = [[j for j in range(i,i+4) ]for i in range(2,6)]\n",
    "print(x)"
   ]
  },
  {
   "cell_type": "code",
   "execution_count": 5,
   "id": "3eca7d4a",
   "metadata": {},
   "outputs": [
    {
     "name": "stdout",
     "output_type": "stream",
     "text": [
      "[(1, 1), (2, 1), (3, 1), (1, 2), (2, 2), (3, 2), (1, 3), (2, 3), (3, 3)]\n"
     ]
    }
   ],
   "source": [
    "x = [tuple([j,i]) for i in range(1,4) for j in range(1,4)]\n",
    "print(x)"
   ]
  }
 ],
 "metadata": {
  "kernelspec": {
   "display_name": "Python 3",
   "language": "python",
   "name": "python3"
  },
  "language_info": {
   "codemirror_mode": {
    "name": "ipython",
    "version": 3
   },
   "file_extension": ".py",
   "mimetype": "text/x-python",
   "name": "python",
   "nbconvert_exporter": "python",
   "pygments_lexer": "ipython3",
   "version": "3.8.8"
  }
 },
 "nbformat": 4,
 "nbformat_minor": 5
}
