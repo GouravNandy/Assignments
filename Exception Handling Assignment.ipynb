{
 "cells": [
  {
   "cell_type": "markdown",
   "id": "162c4ee3",
   "metadata": {},
   "source": [
    "__1. Write a function to compute 5/0 and use try/except to catch the exceptions.__ \n"
   ]
  },
  {
   "cell_type": "code",
   "execution_count": 1,
   "id": "7c1920ca",
   "metadata": {},
   "outputs": [],
   "source": [
    "def test():\n",
    "    try:\n",
    "        c =5/0\n",
    "    except Exception as e:\n",
    "        print(\"Error :\", e)"
   ]
  },
  {
   "cell_type": "code",
   "execution_count": 2,
   "id": "bab7e644",
   "metadata": {},
   "outputs": [
    {
     "name": "stdout",
     "output_type": "stream",
     "text": [
      "Error : division by zero\n"
     ]
    }
   ],
   "source": [
    "test()"
   ]
  },
  {
   "cell_type": "markdown",
   "id": "b5e11672",
   "metadata": {},
   "source": [
    "__2. Implement a Python program to generate all sentences where subject is in  [\"Americans\", \"Indians\"] and verb is in [\"Play\", \"watch\"] and the object is in  [\"Baseball\",\"cricket\"].__\n",
    "\n",
    "\n",
    "Hint: Subject,Verb and Object should be declared in the program as shown below. \n",
    "\n",
    "subjects = [\"Americans \",\"Indians\"] \n",
    "\n",
    "verbs = [\"play\",\"watch\"] \n",
    "\n",
    "objects = [\"Baseball\",\"Cricket\"] \n",
    "\n",
    "__Output should come as below:__ \n",
    "\n",
    "\n",
    "Americans play Baseball. \n",
    "\n",
    "Americans play Cricket. \n",
    "\n",
    "Americans watch Baseball.\n",
    "\n",
    "Americans watch Cricket.\n",
    "\n",
    "Indians play Baseball.\n",
    "\n",
    "Indians play Cricket.\n",
    "\n",
    "Indians watch Baseball. \n",
    "\n",
    "Indians watch Cricket.\n"
   ]
  },
  {
   "cell_type": "code",
   "execution_count": 3,
   "id": "e059810c",
   "metadata": {},
   "outputs": [
    {
     "name": "stdout",
     "output_type": "stream",
     "text": [
      "Americans play Baseball\n",
      "Americans play Cricket\n",
      "Americans watch Baseball\n",
      "Americans watch Cricket\n",
      "Indians play Baseball\n",
      "Indians play Cricket\n",
      "Indians watch Baseball\n",
      "Indians watch Cricket\n"
     ]
    }
   ],
   "source": [
    "subject =[\"Americans\",\"Indians\"]\n",
    "verb = [\"play\", \"watch\"]\n",
    "objects = [\"Baseball\", \"Cricket\"]\n",
    "\n",
    "for i in subject:\n",
    "    for j in verb:\n",
    "        for k in objects: \n",
    "            print(i+\" \"+j+\" \"+k)\n",
    "            \n",
    "            "
   ]
  },
  {
   "cell_type": "code",
   "execution_count": null,
   "id": "4e5c57d0",
   "metadata": {},
   "outputs": [],
   "source": []
  }
 ],
 "metadata": {
  "kernelspec": {
   "display_name": "Python 3",
   "language": "python",
   "name": "python3"
  },
  "language_info": {
   "codemirror_mode": {
    "name": "ipython",
    "version": 3
   },
   "file_extension": ".py",
   "mimetype": "text/x-python",
   "name": "python",
   "nbconvert_exporter": "python",
   "pygments_lexer": "ipython3",
   "version": "3.8.8"
  }
 },
 "nbformat": 4,
 "nbformat_minor": 5
}
