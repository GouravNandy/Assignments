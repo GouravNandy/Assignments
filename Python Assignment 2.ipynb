{
 "cells": [
  {
   "cell_type": "code",
   "execution_count": 18,
   "id": "a862d6d2",
   "metadata": {},
   "outputs": [
    {
     "name": "stdout",
     "output_type": "stream",
     "text": [
      "Output: \n",
      "* \n",
      "* * \n",
      "* * * \n",
      "* * * * \n",
      "* * * * * \n",
      "* * * * \n",
      "* * * \n",
      "* * \n",
      "* \n"
     ]
    }
   ],
   "source": [
    "# 1. Create the below pattern using nested for loop in Python. \n",
    "'''\n",
    "* \n",
    "* * \n",
    "* * * \n",
    "* * * * \n",
    "* * * * * \n",
    "* * * * \n",
    "* * * \n",
    "* * \n",
    "* \n",
    "'''\n",
    "\n",
    "print(\"Output: \")\n",
    "for i in range(1,6):\n",
    "    for j in range(i):\n",
    "        print('*',end =' ')\n",
    "    print()\n",
    "else: \n",
    "    for i in range(4,0,-1):\n",
    "        for j in range(i):\n",
    "            print('*', end = ' ')\n",
    "        print()"
   ]
  },
  {
   "cell_type": "markdown",
   "id": "2bf1a3a5",
   "metadata": {},
   "source": [
    "2. Write a Python program to reverse a word after accepting the input from the user.\n",
    "\n",
    "- Sample Input : ineuron\n",
    "- Sample Output: norueni\n"
   ]
  },
  {
   "cell_type": "code",
   "execution_count": 21,
   "id": "a3d04486",
   "metadata": {},
   "outputs": [
    {
     "name": "stdout",
     "output_type": "stream",
     "text": [
      "Enter a word : ineuron\n",
      "Output : norueni\n"
     ]
    }
   ],
   "source": [
    "s = input(\"Enter a word : \")\n",
    "print(\"Output :\", s[::-1])"
   ]
  }
 ],
 "metadata": {
  "kernelspec": {
   "display_name": "Python 3",
   "language": "python",
   "name": "python3"
  },
  "language_info": {
   "codemirror_mode": {
    "name": "ipython",
    "version": 3
   },
   "file_extension": ".py",
   "mimetype": "text/x-python",
   "name": "python",
   "nbconvert_exporter": "python",
   "pygments_lexer": "ipython3",
   "version": "3.8.8"
  }
 },
 "nbformat": 4,
 "nbformat_minor": 5
}
